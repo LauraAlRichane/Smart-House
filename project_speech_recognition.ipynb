{
 "cells": [
  {
   "cell_type": "code",
   "execution_count": 34,
   "metadata": {},
   "outputs": [],
   "source": [
    "import numpy as np\n",
    "import librosa\n",
    "from sklearn.svm import SVC\n",
    "from sklearn.metrics import accuracy_score\n",
    "import plotly.plotly as py\n",
    "import plotly.graph_objs as go\n",
    "import string\n",
    "import os.path"
   ]
  },
  {
   "cell_type": "code",
   "execution_count": 70,
   "metadata": {},
   "outputs": [],
   "source": [
    "\"\"\"command = ['czajnik', 'dol', 'gora', 'otworz', 'okno', 'temperatura', 'wlacz', 'wylacz', 'zaluzje', 'zamknij']\n",
    "\n",
    "def Signal_load(file_name):\n",
    "    for i in range(0, 9):\n",
    "        #for j in range(1, 30):\n",
    "            #signal, sr = librosa.load('Recordings/' + command[i] + '/' + command[i] + '_' + j + '.m4a'\n",
    "                              #.format(file_name), sr = 44100)\n",
    "        signal, sr = librosa.load('Recordings/' + '{}.m4a'.format(file_name), sr = 44100)\n",
    "        words = []\n",
    "        labels = []\n",
    "        word = command[i]\n",
    "        labels.append(word)\n",
    "        word_signal = signal\n",
    "        word_signal = word_signal / np.amax(np.absolute(word_signal))\n",
    "        words.append(word_signal / np.amax(np.absolute(word_signal)))\n",
    "        return words, labels\"\"\"\n",
    "def Signal_load(file_name, command):\n",
    "    signal, sr = librosa.load('Recordings/' + '{}.m4a'.format(file_name), sr = 44100)\n",
    "    words = []\n",
    "    labels = []\n",
    "    word = command\n",
    "    labels.append(word)\n",
    "    word_signal = signal\n",
    "    word_signal = word_signal / np.amax(np.absolute(word_signal))\n",
    "    words.append(word_signal / np.amax(np.absolute(word_signal)))\n",
    "    return words, labels"
   ]
  },
  {
   "cell_type": "code",
   "execution_count": 71,
   "metadata": {},
   "outputs": [],
   "source": [
    "def Extract_features(signal):\n",
    "    mfccs = np.mean(librosa.feature.mfcc(y = signal, sr = 44100, n_mfcc = 40).T, axis = 0)\n",
    "    mfccs = np.array([mfccs])\n",
    "    return mfccs"
   ]
  },
  {
   "cell_type": "code",
   "execution_count": 78,
   "metadata": {},
   "outputs": [
    {
     "data": {
      "text/plain": [
       "\"for j in range(1, 21):\\n    path = str(command)+'/'+str(command)+'_'+str(j)\\n    train_words_1, train_labels_1 = Signal_load(path, command)\\n    train_words = train_words + train_words_1\\n    train_labels = train_labels + train_labels_1\\nfor j in range(21, 31):\\n    test_words_1, test_labels_1 = Signal_load(path, command)\\n    test_words = test_words + test_words_1\\n    test_labels = test_labels + test_labels_1\\n\""
      ]
     },
     "execution_count": 78,
     "metadata": {},
     "output_type": "execute_result"
    }
   ],
   "source": [
    "command = ['czajnik', 'dol', 'gora', 'otworz', 'okno', 'temperatura', 'wlacz', 'wylacz', 'zaluzje', 'zamknij']\n",
    "#command = 'czajnik'\n",
    "train_words = []\n",
    "train_labels = []\n",
    "test_words = []\n",
    "test_labels = []\n",
    "for i in range(0, 9):\n",
    "    for j in range(1, 21):\n",
    "        path = str(command[i])+'/'+str(command[i])+'_'+str(j)\n",
    "        train_words_1, train_labels_1 = Signal_load(path,command[i])\n",
    "        train_words = train_words + train_words_1\n",
    "        train_labels = train_labels + train_labels_1\n",
    "    for j in range(21, 31):\n",
    "        test_words_1, test_labels_1 = Signal_load(path,command[i])\n",
    "        test_words = test_words + test_words_1\n",
    "        test_labels = test_labels + test_labels_1\n",
    "\"\"\"for j in range(1, 21):\n",
    "    path = str(command)+'/'+str(command)+'_'+str(j)\n",
    "    train_words_1, train_labels_1 = Signal_load(path, command)\n",
    "    train_words = train_words + train_words_1\n",
    "    train_labels = train_labels + train_labels_1\n",
    "for j in range(21, 31):\n",
    "    test_words_1, test_labels_1 = Signal_load(path, command)\n",
    "    test_words = test_words + test_words_1\n",
    "    test_labels = test_labels + test_labels_1\n",
    "\"\"\"\n",
    "#print(test_words)\n",
    "#print(train_labels)"
   ]
  },
  {
   "cell_type": "code",
   "execution_count": 79,
   "metadata": {},
   "outputs": [],
   "source": [
    "train_features = np.empty((0, 40))\n",
    "for i in range(0, len(train_words)):\n",
    "    feature = Extract_features(train_words[i])\n",
    "    train_features = np.append(train_features, feature, axis = 0)\n",
    "    \n",
    "test_features = np.empty((0, 40))\n",
    "for i in range(0, len(test_words)):\n",
    "    feature = Extract_features(test_words[i])\n",
    "    test_features = np.append(test_features, feature, axis = 0)"
   ]
  },
  {
   "cell_type": "code",
   "execution_count": 80,
   "metadata": {},
   "outputs": [
    {
     "name": "stdout",
     "output_type": "stream",
     "text": [
      "Accuracy: 1.0\n"
     ]
    }
   ],
   "source": [
    "clf = SVC(kernel = \"linear\", C = 0.025)\n",
    "clf.fit(train_features, train_labels)\n",
    "preds = clf.predict(test_features)\n",
    "print('Accuracy: {}'.format(accuracy_score(test_labels, preds)))"
   ]
  },
  {
   "cell_type": "code",
   "execution_count": 81,
   "metadata": {},
   "outputs": [
    {
     "name": "stdout",
     "output_type": "stream",
     "text": [
      "Expected words: \n",
      "['czajnik', 'czajnik', 'czajnik', 'czajnik', 'czajnik', 'czajnik', 'czajnik', 'czajnik', 'czajnik', 'czajnik', 'dol', 'dol', 'dol', 'dol', 'dol', 'dol', 'dol', 'dol', 'dol', 'dol', 'gora', 'gora', 'gora', 'gora', 'gora', 'gora', 'gora', 'gora', 'gora', 'gora', 'otworz', 'otworz', 'otworz', 'otworz', 'otworz', 'otworz', 'otworz', 'otworz', 'otworz', 'otworz', 'okno', 'okno', 'okno', 'okno', 'okno', 'okno', 'okno', 'okno', 'okno', 'okno', 'temperatura', 'temperatura', 'temperatura', 'temperatura', 'temperatura', 'temperatura', 'temperatura', 'temperatura', 'temperatura', 'temperatura', 'wlacz', 'wlacz', 'wlacz', 'wlacz', 'wlacz', 'wlacz', 'wlacz', 'wlacz', 'wlacz', 'wlacz', 'wylacz', 'wylacz', 'wylacz', 'wylacz', 'wylacz', 'wylacz', 'wylacz', 'wylacz', 'wylacz', 'wylacz', 'zaluzje', 'zaluzje', 'zaluzje', 'zaluzje', 'zaluzje', 'zaluzje', 'zaluzje', 'zaluzje', 'zaluzje', 'zaluzje']\n",
      "\n",
      "Predicted words: \n",
      "['czajnik' 'czajnik' 'czajnik' 'czajnik' 'czajnik' 'czajnik' 'czajnik'\n",
      " 'czajnik' 'czajnik' 'czajnik' 'dol' 'dol' 'dol' 'dol' 'dol' 'dol' 'dol'\n",
      " 'dol' 'dol' 'dol' 'gora' 'gora' 'gora' 'gora' 'gora' 'gora' 'gora' 'gora'\n",
      " 'gora' 'gora' 'otworz' 'otworz' 'otworz' 'otworz' 'otworz' 'otworz'\n",
      " 'otworz' 'otworz' 'otworz' 'otworz' 'okno' 'okno' 'okno' 'okno' 'okno'\n",
      " 'okno' 'okno' 'okno' 'okno' 'okno' 'temperatura' 'temperatura'\n",
      " 'temperatura' 'temperatura' 'temperatura' 'temperatura' 'temperatura'\n",
      " 'temperatura' 'temperatura' 'temperatura' 'wlacz' 'wlacz' 'wlacz' 'wlacz'\n",
      " 'wlacz' 'wlacz' 'wlacz' 'wlacz' 'wlacz' 'wlacz' 'wylacz' 'wylacz'\n",
      " 'wylacz' 'wylacz' 'wylacz' 'wylacz' 'wylacz' 'wylacz' 'wylacz' 'wylacz'\n",
      " 'zaluzje' 'zaluzje' 'zaluzje' 'zaluzje' 'zaluzje' 'zaluzje' 'zaluzje'\n",
      " 'zaluzje' 'zaluzje' 'zaluzje']\n"
     ]
    }
   ],
   "source": [
    "print('Expected words: \\n{}'.format(test_labels))\n",
    "print('\\nPredicted words: \\n{}'.format(preds))"
   ]
  },
  {
   "cell_type": "code",
   "execution_count": null,
   "metadata": {},
   "outputs": [],
   "source": []
  }
 ],
 "metadata": {
  "kernelspec": {
   "display_name": "Python 3",
   "language": "python",
   "name": "python3"
  }
 },
 "nbformat": 4,
 "nbformat_minor": 2
}
